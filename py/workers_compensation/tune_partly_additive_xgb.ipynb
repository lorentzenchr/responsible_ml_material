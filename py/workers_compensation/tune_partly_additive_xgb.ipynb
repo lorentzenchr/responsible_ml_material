{
 "cells": [
  {
   "cell_type": "markdown",
   "metadata": {},
   "source": [
    "# Randomized search CV for the partly additive XGB model\n",
    "\n",
    "- Rerunning takes ~ten minutes\n",
    "- Results might depend on seed\n",
    "- Basically a copy of Chapter 3 code"
   ]
  },
  {
   "cell_type": "code",
   "execution_count": 1,
   "metadata": {},
   "outputs": [],
   "source": [
    "# Rerunning takes ~10 minutes; results might depend on seed\n",
    "import json\n",
    "\n",
    "import pandas as pd\n",
    "import xgboost as xgb\n",
    "from joblib import load\n",
    "from sklearn.model_selection import ParameterSampler  # , ParameterGrid\n",
    "from tqdm import tqdm\n",
    "from xgboost import XGBRegressor\n",
    "\n",
    "grid_file = \"grid_partly_additive_xgb.txt\"\n",
    "\n",
    "# Data splits already prepared in exercise text (must run first)\n",
    "X_train, X_test, y_train, y_test = load(\"data.joblib\")\n",
    "\n",
    "# Data interface of XGBoost\n",
    "dtrain = xgb.DMatrix(X_train, label=y_train)\n",
    "\n",
    "# STEP 1: Model for the expected claims frequency\n",
    "# -> Gamma deviance is both strictly consistent and meaningful\n",
    "\n",
    "interaction_constraints = [\n",
    "    [\"DateNum\"],\n",
    "    [\"Female\"],\n",
    "    [\n",
    "        \"LogInitial\",\n",
    "        \"LogWeeklyPay\",\n",
    "        \"LogDelay\",\n",
    "        \"LogAge\",\n",
    "        \"PartTime\",\n",
    "        \"Married\",\n",
    "        \"WeekDay\",\n",
    "        \"Hour\",\n",
    "    ],\n",
    "]\n",
    "\n",
    "# STEP 2: Select learning rate to get reasonable number of trees by early stopping\n",
    "params = {\n",
    "    \"objective\": \"reg:gamma\",\n",
    "    \"learning_rate\": 0.05,\n",
    "    \"max_depth\": 2,\n",
    "    \"interaction_constraints\": interaction_constraints,\n",
    "}"
   ]
  },
  {
   "cell_type": "code",
   "execution_count": 2,
   "metadata": {},
   "outputs": [
    {
     "name": "stdout",
     "output_type": "stream",
     "text": [
      "[0]\ttrain-gamma-nloglik:4488.80020\ttest-gamma-nloglik:4488.80385\n",
      "[50]\ttrain-gamma-nloglik:372.81397\ttest-gamma-nloglik:372.83600\n",
      "[100]\ttrain-gamma-nloglik:37.15666\ttest-gamma-nloglik:37.18060\n",
      "[150]\ttrain-gamma-nloglik:11.27299\ttest-gamma-nloglik:11.30717\n",
      "[200]\ttrain-gamma-nloglik:9.74567\ttest-gamma-nloglik:9.79096\n",
      "[250]\ttrain-gamma-nloglik:9.65464\ttest-gamma-nloglik:9.72069\n",
      "[300]\ttrain-gamma-nloglik:9.62408\ttest-gamma-nloglik:9.70658\n",
      "[350]\ttrain-gamma-nloglik:9.60559\ttest-gamma-nloglik:9.69668\n",
      "[400]\ttrain-gamma-nloglik:9.59130\ttest-gamma-nloglik:9.69075\n",
      "[450]\ttrain-gamma-nloglik:9.58100\ttest-gamma-nloglik:9.68994\n",
      "[487]\ttrain-gamma-nloglik:9.57439\ttest-gamma-nloglik:9.69069\n",
      "Best boosting round with default params:\n",
      "\n"
     ]
    },
    {
     "data": {
      "text/html": [
       "<div>\n",
       "<style scoped>\n",
       "    .dataframe tbody tr th:only-of-type {\n",
       "        vertical-align: middle;\n",
       "    }\n",
       "\n",
       "    .dataframe tbody tr th {\n",
       "        vertical-align: top;\n",
       "    }\n",
       "\n",
       "    .dataframe thead th {\n",
       "        text-align: right;\n",
       "    }\n",
       "</style>\n",
       "<table border=\"1\" class=\"dataframe\">\n",
       "  <thead>\n",
       "    <tr style=\"text-align: right;\">\n",
       "      <th></th>\n",
       "      <th>train-gamma-nloglik-mean</th>\n",
       "      <th>train-gamma-nloglik-std</th>\n",
       "      <th>test-gamma-nloglik-mean</th>\n",
       "      <th>test-gamma-nloglik-std</th>\n",
       "    </tr>\n",
       "  </thead>\n",
       "  <tbody>\n",
       "    <tr>\n",
       "      <th>467</th>\n",
       "      <td>9.57787</td>\n",
       "      <td>0.015424</td>\n",
       "      <td>9.689257</td>\n",
       "      <td>0.10268</td>\n",
       "    </tr>\n",
       "  </tbody>\n",
       "</table>\n",
       "</div>"
      ],
      "text/plain": [
       "     train-gamma-nloglik-mean  train-gamma-nloglik-std  \\\n",
       "467                   9.57787                 0.015424   \n",
       "\n",
       "     test-gamma-nloglik-mean  test-gamma-nloglik-std  \n",
       "467                 9.689257                 0.10268  "
      ]
     },
     "execution_count": 2,
     "metadata": {},
     "output_type": "execute_result"
    }
   ],
   "source": [
    "# k-fold cross-validation to see if number of trees is reasonable\n",
    "cvm = xgb.cv(\n",
    "    params=params,\n",
    "    dtrain=dtrain,\n",
    "    num_boost_round=5000,\n",
    "    nfold=5,\n",
    "    early_stopping_rounds=20,\n",
    "    callbacks=[xgb.callback.EvaluationMonitor(period=50)],\n",
    ")\n",
    "\n",
    "# A LR of 0.05 provides about 450 trees, which is ok\n",
    "print(\"Best boosting round with default params:\\n\")\n",
    "cvm.tail(1)"
   ]
  },
  {
   "cell_type": "code",
   "execution_count": 4,
   "metadata": {},
   "outputs": [
    {
     "name": "stderr",
     "output_type": "stream",
     "text": [
      "  0%|          | 0/50 [00:00<?, ?it/s]"
     ]
    },
    {
     "name": "stderr",
     "output_type": "stream",
     "text": [
      "100%|██████████| 50/50 [11:03<00:00, 13.27s/it]\n"
     ]
    },
    {
     "data": {
      "text/html": [
       "<div>\n",
       "<style scoped>\n",
       "    .dataframe tbody tr th:only-of-type {\n",
       "        vertical-align: middle;\n",
       "    }\n",
       "\n",
       "    .dataframe tbody tr th {\n",
       "        vertical-align: top;\n",
       "    }\n",
       "\n",
       "    .dataframe thead th {\n",
       "        text-align: right;\n",
       "    }\n",
       "</style>\n",
       "<table border=\"1\" class=\"dataframe\">\n",
       "  <thead>\n",
       "    <tr style=\"text-align: right;\">\n",
       "      <th></th>\n",
       "      <th>num_boost_round</th>\n",
       "      <th>cv_score</th>\n",
       "      <th>train_score</th>\n",
       "      <th>params</th>\n",
       "    </tr>\n",
       "  </thead>\n",
       "  <tbody>\n",
       "    <tr>\n",
       "      <th>23</th>\n",
       "      <td>441</td>\n",
       "      <td>9.687053</td>\n",
       "      <td>9.583179</td>\n",
       "      <td>{'subsample': 1, 'reg_lambda': 3, 'reg_alpha': 2, 'objective': 'reg:gamma', 'min_split_loss': 0, 'max_depth': 2, 'learning_rate': 0.05, 'interaction_constraints': [['DateNum'], ['Female'], ['LogInitial', 'LogWeeklyPay', 'LogDelay', 'LogAge', 'PartTime', 'Married', 'WeekDay', 'Hour']], 'colsample_bynode': 0.8}</td>\n",
       "    </tr>\n",
       "    <tr>\n",
       "      <th>33</th>\n",
       "      <td>417</td>\n",
       "      <td>9.687826</td>\n",
       "      <td>9.587172</td>\n",
       "      <td>{'subsample': 1, 'reg_lambda': 0, 'reg_alpha': 3, 'objective': 'reg:gamma', 'min_split_loss': 0.001, 'max_depth': 2, 'learning_rate': 0.05, 'interaction_constraints': [['DateNum'], ['Female'], ['LogInitial', 'LogWeeklyPay', 'LogDelay', 'LogAge', 'PartTime', 'Married', 'WeekDay', 'Hour']], 'colsample_bynode': 0.8}</td>\n",
       "    </tr>\n",
       "    <tr>\n",
       "      <th>12</th>\n",
       "      <td>417</td>\n",
       "      <td>9.687826</td>\n",
       "      <td>9.587172</td>\n",
       "      <td>{'subsample': 1, 'reg_lambda': 0, 'reg_alpha': 3, 'objective': 'reg:gamma', 'min_split_loss': 0, 'max_depth': 2, 'learning_rate': 0.05, 'interaction_constraints': [['DateNum'], ['Female'], ['LogInitial', 'LogWeeklyPay', 'LogDelay', 'LogAge', 'PartTime', 'Married', 'WeekDay', 'Hour']], 'colsample_bynode': 0.8}</td>\n",
       "    </tr>\n",
       "    <tr>\n",
       "      <th>21</th>\n",
       "      <td>346</td>\n",
       "      <td>9.688511</td>\n",
       "      <td>9.601280</td>\n",
       "      <td>{'subsample': 0.8, 'reg_lambda': 1, 'reg_alpha': 3, 'objective': 'reg:gamma', 'min_split_loss': 0, 'max_depth': 2, 'learning_rate': 0.05, 'interaction_constraints': [['DateNum'], ['Female'], ['LogInitial', 'LogWeeklyPay', 'LogDelay', 'LogAge', 'PartTime', 'Married', 'WeekDay', 'Hour']], 'colsample_bynode': 0.8}</td>\n",
       "    </tr>\n",
       "    <tr>\n",
       "      <th>49</th>\n",
       "      <td>429</td>\n",
       "      <td>9.689165</td>\n",
       "      <td>9.580553</td>\n",
       "      <td>{'subsample': 0.8, 'reg_lambda': 1, 'reg_alpha': 0, 'objective': 'reg:gamma', 'min_split_loss': 0, 'max_depth': 2, 'learning_rate': 0.05, 'interaction_constraints': [['DateNum'], ['Female'], ['LogInitial', 'LogWeeklyPay', 'LogDelay', 'LogAge', 'PartTime', 'Married', 'WeekDay', 'Hour']], 'colsample_bynode': 0.8}</td>\n",
       "    </tr>\n",
       "  </tbody>\n",
       "</table>\n",
       "</div>"
      ],
      "text/plain": [
       "    num_boost_round  cv_score  train_score  \\\n",
       "23              441  9.687053     9.583179   \n",
       "33              417  9.687826     9.587172   \n",
       "12              417  9.687826     9.587172   \n",
       "21              346  9.688511     9.601280   \n",
       "49              429  9.689165     9.580553   \n",
       "\n",
       "                                                                                                                                                                                                                                                                                                                        params  \n",
       "23      {'subsample': 1, 'reg_lambda': 3, 'reg_alpha': 2, 'objective': 'reg:gamma', 'min_split_loss': 0, 'max_depth': 2, 'learning_rate': 0.05, 'interaction_constraints': [['DateNum'], ['Female'], ['LogInitial', 'LogWeeklyPay', 'LogDelay', 'LogAge', 'PartTime', 'Married', 'WeekDay', 'Hour']], 'colsample_bynode': 0.8}  \n",
       "33  {'subsample': 1, 'reg_lambda': 0, 'reg_alpha': 3, 'objective': 'reg:gamma', 'min_split_loss': 0.001, 'max_depth': 2, 'learning_rate': 0.05, 'interaction_constraints': [['DateNum'], ['Female'], ['LogInitial', 'LogWeeklyPay', 'LogDelay', 'LogAge', 'PartTime', 'Married', 'WeekDay', 'Hour']], 'colsample_bynode': 0.8}  \n",
       "12      {'subsample': 1, 'reg_lambda': 0, 'reg_alpha': 3, 'objective': 'reg:gamma', 'min_split_loss': 0, 'max_depth': 2, 'learning_rate': 0.05, 'interaction_constraints': [['DateNum'], ['Female'], ['LogInitial', 'LogWeeklyPay', 'LogDelay', 'LogAge', 'PartTime', 'Married', 'WeekDay', 'Hour']], 'colsample_bynode': 0.8}  \n",
       "21    {'subsample': 0.8, 'reg_lambda': 1, 'reg_alpha': 3, 'objective': 'reg:gamma', 'min_split_loss': 0, 'max_depth': 2, 'learning_rate': 0.05, 'interaction_constraints': [['DateNum'], ['Female'], ['LogInitial', 'LogWeeklyPay', 'LogDelay', 'LogAge', 'PartTime', 'Married', 'WeekDay', 'Hour']], 'colsample_bynode': 0.8}  \n",
       "49    {'subsample': 0.8, 'reg_lambda': 1, 'reg_alpha': 0, 'objective': 'reg:gamma', 'min_split_loss': 0, 'max_depth': 2, 'learning_rate': 0.05, 'interaction_constraints': [['DateNum'], ['Female'], ['LogInitial', 'LogWeeklyPay', 'LogDelay', 'LogAge', 'PartTime', 'Married', 'WeekDay', 'Hour']], 'colsample_bynode': 0.8}  "
      ]
     },
     "metadata": {},
     "output_type": "display_data"
    }
   ],
   "source": [
    "# STEP 3: Iterate randomized SearchCV for regularization parameters\n",
    "if True:\n",
    "    # Or ParameterGrid(...) if grid is small enough to check all combinations\n",
    "    grid = ParameterSampler(\n",
    "        {\n",
    "            \"objective\": [\"reg:gamma\"],\n",
    "            \"learning_rate\": [0.05],\n",
    "            \"max_depth\": [2],\n",
    "            \"interaction_constraints\": [interaction_constraints],\n",
    "            \"colsample_bynode\": [0.8, 1],\n",
    "            \"subsample\": [0.8, 1],\n",
    "            \"reg_lambda\": [0, 1, 2, 3],\n",
    "            \"reg_alpha\": [0, 1, 2, 3],\n",
    "            \"min_split_loss\": [0, 0.001],\n",
    "        },\n",
    "        n_iter=50,\n",
    "        random_state=9,\n",
    "    )\n",
    "\n",
    "    # Iterate over grid and save relevant information on disk\n",
    "    search = []\n",
    "    for g in tqdm(grid):\n",
    "        cvm = xgb.cv(\n",
    "            params=g,\n",
    "            dtrain=dtrain,\n",
    "            num_boost_round=5000,\n",
    "            nfold=5,\n",
    "            seed=67,\n",
    "            early_stopping_rounds=20,\n",
    "        )\n",
    "        # Keep number of rounds, cv score, train score, and parameters\n",
    "        search.append((len(cvm), *cvm.iloc[-1, [2, 0]], g))\n",
    "\n",
    "        with open(grid_file, \"w\") as f:\n",
    "            json.dump(search, f)\n",
    "\n",
    "# Load grid and check (A) sort order and (B) if grid ranges were set reasonable\n",
    "with open(grid_file) as f:\n",
    "    search = json.load(f)\n",
    "\n",
    "search_df = pd.DataFrame.from_records(\n",
    "    search, columns=[\"num_boost_round\", \"cv_score\", \"train_score\", \"params\"]\n",
    ").sort_values(\"cv_score\")\n",
    "\n",
    "with pd.option_context(\"display.max_colwidth\", None):\n",
    "    display(search_df.head())"
   ]
  },
  {
   "cell_type": "code",
   "execution_count": 7,
   "metadata": {},
   "outputs": [
    {
     "data": {
      "text/plain": [
       "(441,\n",
       " {'subsample': 1,\n",
       "  'reg_lambda': 3,\n",
       "  'reg_alpha': 2,\n",
       "  'objective': 'reg:gamma',\n",
       "  'min_split_loss': 0,\n",
       "  'max_depth': 2,\n",
       "  'learning_rate': 0.05,\n",
       "  'interaction_constraints': [['DateNum'],\n",
       "   ['Female'],\n",
       "   ['LogInitial',\n",
       "    'LogWeeklyPay',\n",
       "    'LogDelay',\n",
       "    'LogAge',\n",
       "    'PartTime',\n",
       "    'Married',\n",
       "    'WeekDay',\n",
       "    'Hour']],\n",
       "  'colsample_bynode': 0.8})"
      ]
     },
     "execution_count": 7,
     "metadata": {},
     "output_type": "execute_result"
    }
   ],
   "source": [
    "# Best parameters\n",
    "best = search_df.iloc[0]\n",
    "best.num_boost_round, best.params"
   ]
  },
  {
   "cell_type": "code",
   "execution_count": 6,
   "metadata": {},
   "outputs": [],
   "source": [
    "# Fit on best parameters\n",
    "model_xgb = XGBRegressor(\n",
    "    **best.params, n_estimators=best.num_boost_round, random_state=59\n",
    ")\n",
    "_ = model_xgb.fit(X=X_train, y=y_train)"
   ]
  },
  {
   "cell_type": "code",
   "execution_count": null,
   "metadata": {},
   "outputs": [],
   "source": []
  }
 ],
 "metadata": {
  "kernelspec": {
   "display_name": ".venv",
   "language": "python",
   "name": "python3"
  },
  "language_info": {
   "codemirror_mode": {
    "name": "ipython",
    "version": 3
   },
   "file_extension": ".py",
   "mimetype": "text/x-python",
   "name": "python",
   "nbconvert_exporter": "python",
   "pygments_lexer": "ipython3",
   "version": "3.11.8"
  }
 },
 "nbformat": 4,
 "nbformat_minor": 2
}
