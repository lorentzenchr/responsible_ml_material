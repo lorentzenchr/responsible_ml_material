{
 "cells": [
  {
   "cell_type": "markdown",
   "metadata": {},
   "source": [
    "# Ungrouped CV randomized search for the LightGBM model for French MTPL data\n",
    "\n",
    "- Rerunning takes long\n",
    "- Results might depend on seed\n",
    "- Almost copy of Chapter 3 code"
   ]
  },
  {
   "cell_type": "code",
   "execution_count": 1,
   "metadata": {},
   "outputs": [
    {
     "data": {
      "text/plain": [
       "(678013, 16)"
      ]
     },
     "execution_count": 1,
     "metadata": {},
     "output_type": "execute_result"
    }
   ],
   "source": [
    "import json\n",
    "\n",
    "import lightgbm as lgb\n",
    "import pandas as pd\n",
    "from joblib import load\n",
    "from lightgbm import LGBMRegressor\n",
    "from sklearn.model_selection import ParameterSampler, train_test_split\n",
    "from sklearn.pipeline import Pipeline\n",
    "from tqdm import tqdm\n",
    "\n",
    "grid_file = \"grid_nongrouped_lgb.txt\"\n",
    "\n",
    "train, test, *_, xvars, prep_lgb = load(\"data.joblib\")\n",
    "df = pd.concat([train, test], axis=0)\n",
    "df.shape"
   ]
  },
  {
   "cell_type": "code",
   "execution_count": 2,
   "metadata": {},
   "outputs": [],
   "source": [
    "# Random split (same split as for the ungrouped GLM in the main notebook)\n",
    "X_train_u, X_test_u, y_train_u, y_test_u, w_train_u, w_test_u = train_test_split(\n",
    "    df[xvars], df.Freq, df.Exposure, train_size=0.8, random_state=90\n",
    ")\n",
    "\n",
    "# Data interface of LightGBM\n",
    "dtrain_u = lgb.Dataset(\n",
    "    prep_lgb.fit_transform(X_train_u),\n",
    "    label=y_train_u.to_numpy(),\n",
    "    weight=w_train_u.to_numpy(),\n",
    "    params={\"feature_pre_filter\": False},\n",
    ")\n",
    "\n",
    "# STEP 1: Model for expected claims frequency -> Poisson deviance\n",
    "\n",
    "# STEP 2: Select learning rate so that optimal number of rounds by early stopping is\n",
    "# somewhere between 100 and 1000\n",
    "params = {\n",
    "    \"objective\": \"poisson\",\n",
    "    \"learning_rate\": 0.05,\n",
    "    \"verbose\": -1,  # play with learning_rate\n",
    "}"
   ]
  },
  {
   "cell_type": "code",
   "execution_count": 3,
   "metadata": {},
   "outputs": [
    {
     "name": "stdout",
     "output_type": "stream",
     "text": [
      "Best boosting round with default params:\n",
      " 551\n"
     ]
    },
    {
     "data": {
      "text/html": [
       "<div>\n",
       "<style scoped>\n",
       "    .dataframe tbody tr th:only-of-type {\n",
       "        vertical-align: middle;\n",
       "    }\n",
       "\n",
       "    .dataframe tbody tr th {\n",
       "        vertical-align: top;\n",
       "    }\n",
       "\n",
       "    .dataframe thead th {\n",
       "        text-align: right;\n",
       "    }\n",
       "</style>\n",
       "<table border=\"1\" class=\"dataframe\">\n",
       "  <thead>\n",
       "    <tr style=\"text-align: right;\">\n",
       "      <th></th>\n",
       "      <th>train poisson-mean</th>\n",
       "      <th>train poisson-stdv</th>\n",
       "      <th>valid poisson-mean</th>\n",
       "      <th>valid poisson-stdv</th>\n",
       "    </tr>\n",
       "  </thead>\n",
       "  <tbody>\n",
       "    <tr>\n",
       "      <th>550</th>\n",
       "      <td>0.299765</td>\n",
       "      <td>0.000581</td>\n",
       "      <td>0.309713</td>\n",
       "      <td>0.002385</td>\n",
       "    </tr>\n",
       "  </tbody>\n",
       "</table>\n",
       "</div>"
      ],
      "text/plain": [
       "     train poisson-mean  train poisson-stdv  valid poisson-mean  \\\n",
       "550            0.299765            0.000581            0.309713   \n",
       "\n",
       "     valid poisson-stdv  \n",
       "550            0.002385  "
      ]
     },
     "execution_count": 3,
     "metadata": {},
     "output_type": "execute_result"
    }
   ],
   "source": [
    "cvm = lgb.cv(\n",
    "    params=params,\n",
    "    train_set=dtrain_u,\n",
    "    num_boost_round=5000,\n",
    "    nfold=5,\n",
    "    stratified=False,\n",
    "    eval_train_metric=True,\n",
    "    callbacks=[lgb.log_evaluation(period=0), lgb.early_stopping(20, verbose=0)],\n",
    ")\n",
    "\n",
    "# A LR of 0.05 provides about 550 trees, which is convenient\n",
    "cvm = pd.DataFrame(cvm)\n",
    "print(\"Best boosting round with default params:\\n\", len(cvm))\n",
    "cvm.tail(1)"
   ]
  },
  {
   "cell_type": "code",
   "execution_count": 23,
   "metadata": {},
   "outputs": [
    {
     "name": "stderr",
     "output_type": "stream",
     "text": [
      "100%|██████████| 50/50 [53:20<00:00, 64.00s/it]\n"
     ]
    },
    {
     "data": {
      "text/html": [
       "<div>\n",
       "<style scoped>\n",
       "    .dataframe tbody tr th:only-of-type {\n",
       "        vertical-align: middle;\n",
       "    }\n",
       "\n",
       "    .dataframe tbody tr th {\n",
       "        vertical-align: top;\n",
       "    }\n",
       "\n",
       "    .dataframe thead th {\n",
       "        text-align: right;\n",
       "    }\n",
       "</style>\n",
       "<table border=\"1\" class=\"dataframe\">\n",
       "  <thead>\n",
       "    <tr style=\"text-align: right;\">\n",
       "      <th></th>\n",
       "      <th>num_boost_round</th>\n",
       "      <th>cv_score</th>\n",
       "      <th>train_score</th>\n",
       "      <th>params</th>\n",
       "    </tr>\n",
       "  </thead>\n",
       "  <tbody>\n",
       "    <tr>\n",
       "      <th>32</th>\n",
       "      <td>380</td>\n",
       "      <td>0.309547</td>\n",
       "      <td>0.295104</td>\n",
       "      <td>{'verbose': -1, 'subsample': 0.8, 'reg_lambda': 0, 'reg_alpha': 0, 'poisson_max_delta_step': 0.7, 'objective': 'poisson', 'num_leaves': 63, 'min_child_samples': 20, 'learning_rate': 0.05, 'colsample_bynode': 0.8}</td>\n",
       "    </tr>\n",
       "    <tr>\n",
       "      <th>42</th>\n",
       "      <td>345</td>\n",
       "      <td>0.309624</td>\n",
       "      <td>0.297844</td>\n",
       "      <td>{'verbose': -1, 'subsample': 1, 'reg_lambda': 0, 'reg_alpha': 0, 'poisson_max_delta_step': 0.7, 'objective': 'poisson', 'num_leaves': 63, 'min_child_samples': 50, 'learning_rate': 0.05, 'colsample_bynode': 0.8}</td>\n",
       "    </tr>\n",
       "    <tr>\n",
       "      <th>45</th>\n",
       "      <td>344</td>\n",
       "      <td>0.309716</td>\n",
       "      <td>0.299935</td>\n",
       "      <td>{'verbose': -1, 'subsample': 1, 'reg_lambda': 5, 'reg_alpha': 0, 'poisson_max_delta_step': 0.7, 'objective': 'poisson', 'num_leaves': 63, 'min_child_samples': 50, 'learning_rate': 0.05, 'colsample_bynode': 0.8}</td>\n",
       "    </tr>\n",
       "    <tr>\n",
       "      <th>18</th>\n",
       "      <td>303</td>\n",
       "      <td>0.309748</td>\n",
       "      <td>0.301403</td>\n",
       "      <td>{'verbose': -1, 'subsample': 1, 'reg_lambda': 7.5, 'reg_alpha': 0, 'poisson_max_delta_step': 0.7, 'objective': 'poisson', 'num_leaves': 63, 'min_child_samples': 100, 'learning_rate': 0.05, 'colsample_bynode': 0.8}</td>\n",
       "    </tr>\n",
       "    <tr>\n",
       "      <th>11</th>\n",
       "      <td>146</td>\n",
       "      <td>0.309769</td>\n",
       "      <td>0.303110</td>\n",
       "      <td>{'verbose': -1, 'subsample': 1, 'reg_lambda': 2.5, 'reg_alpha': 4, 'poisson_max_delta_step': 0.1, 'objective': 'poisson', 'num_leaves': 63, 'min_child_samples': 20, 'learning_rate': 0.05, 'colsample_bynode': 1}</td>\n",
       "    </tr>\n",
       "  </tbody>\n",
       "</table>\n",
       "</div>"
      ],
      "text/plain": [
       "    num_boost_round  cv_score  train_score  \\\n",
       "32              380  0.309547     0.295104   \n",
       "42              345  0.309624     0.297844   \n",
       "45              344  0.309716     0.299935   \n",
       "18              303  0.309748     0.301403   \n",
       "11              146  0.309769     0.303110   \n",
       "\n",
       "                                                                                                                                                                                                                   params  \n",
       "32   {'verbose': -1, 'subsample': 0.8, 'reg_lambda': 0, 'reg_alpha': 0, 'poisson_max_delta_step': 0.7, 'objective': 'poisson', 'num_leaves': 63, 'min_child_samples': 20, 'learning_rate': 0.05, 'colsample_bynode': 0.8}  \n",
       "42     {'verbose': -1, 'subsample': 1, 'reg_lambda': 0, 'reg_alpha': 0, 'poisson_max_delta_step': 0.7, 'objective': 'poisson', 'num_leaves': 63, 'min_child_samples': 50, 'learning_rate': 0.05, 'colsample_bynode': 0.8}  \n",
       "45     {'verbose': -1, 'subsample': 1, 'reg_lambda': 5, 'reg_alpha': 0, 'poisson_max_delta_step': 0.7, 'objective': 'poisson', 'num_leaves': 63, 'min_child_samples': 50, 'learning_rate': 0.05, 'colsample_bynode': 0.8}  \n",
       "18  {'verbose': -1, 'subsample': 1, 'reg_lambda': 7.5, 'reg_alpha': 0, 'poisson_max_delta_step': 0.7, 'objective': 'poisson', 'num_leaves': 63, 'min_child_samples': 100, 'learning_rate': 0.05, 'colsample_bynode': 0.8}  \n",
       "11     {'verbose': -1, 'subsample': 1, 'reg_lambda': 2.5, 'reg_alpha': 4, 'poisson_max_delta_step': 0.1, 'objective': 'poisson', 'num_leaves': 63, 'min_child_samples': 20, 'learning_rate': 0.05, 'colsample_bynode': 1}  "
      ]
     },
     "metadata": {},
     "output_type": "display_data"
    }
   ],
   "source": [
    "# STEP 3: Iterate randomized SearchCV for regularization parameters\n",
    "if True:\n",
    "    # Or ParameterGrid(...) if grid is small enough to check all combinations\n",
    "    grid = ParameterSampler(\n",
    "        {\n",
    "            \"objective\": [\"poisson\"],\n",
    "            \"learning_rate\": [0.05],\n",
    "            \"num_leaves\": [15, 31, 63],\n",
    "            \"reg_lambda\": [0, 2.5, 5, 7.5],\n",
    "            \"reg_alpha\": [0, 4],\n",
    "            \"colsample_bynode\": [0.8, 1],\n",
    "            \"subsample\": [0.8, 1],\n",
    "            \"min_child_samples\": [20, 50, 100],\n",
    "            \"poisson_max_delta_step\": [0.1, 0.7],\n",
    "            \"verbose\": [-1],\n",
    "        },\n",
    "        n_iter=50,\n",
    "        random_state=94,\n",
    "    )\n",
    "\n",
    "    # Iterate over grid and save relevant information on disk\n",
    "    search = []\n",
    "    for g in tqdm(grid):\n",
    "        cvm = lgb.cv(\n",
    "            params=g,\n",
    "            train_set=dtrain_u,\n",
    "            num_boost_round=5000,\n",
    "            nfold=5,\n",
    "            stratified=False,\n",
    "            seed=82,\n",
    "            eval_train_metric=True,\n",
    "            callbacks=[lgb.log_evaluation(period=0), lgb.early_stopping(20, verbose=0)],\n",
    "        )\n",
    "        # Keep number of rounds, cv score, train score, and parameters\n",
    "        cvm = pd.DataFrame(cvm)\n",
    "        search.append((len(cvm), *cvm.iloc[-1, [2, 0]], g))\n",
    "\n",
    "        with open(grid_file, \"w\") as f:\n",
    "            json.dump(search, f)\n",
    "\n",
    "# Load grid and check (A) sort order and (B) if grid ranges were set reasonable\n",
    "with open(grid_file) as f:\n",
    "    search = json.load(f)\n",
    "\n",
    "search_df = pd.DataFrame.from_records(\n",
    "    search, columns=[\"num_boost_round\", \"cv_score\", \"train_score\", \"params\"]\n",
    ").sort_values(\"cv_score\")\n",
    "\n",
    "with pd.option_context(\"display.max_colwidth\", None):\n",
    "    display(search_df.head())"
   ]
  },
  {
   "cell_type": "code",
   "execution_count": 24,
   "metadata": {},
   "outputs": [
    {
     "data": {
      "text/plain": [
       "(380,\n",
       " {'verbose': -1,\n",
       "  'subsample': 0.8,\n",
       "  'reg_lambda': 0,\n",
       "  'reg_alpha': 0,\n",
       "  'poisson_max_delta_step': 0.7,\n",
       "  'objective': 'poisson',\n",
       "  'num_leaves': 63,\n",
       "  'min_child_samples': 20,\n",
       "  'learning_rate': 0.05,\n",
       "  'colsample_bynode': 0.8})"
      ]
     },
     "execution_count": 24,
     "metadata": {},
     "output_type": "execute_result"
    }
   ],
   "source": [
    "# Best parameters\n",
    "best = search_df.iloc[0]\n",
    "best.num_boost_round, best.params"
   ]
  },
  {
   "cell_type": "code",
   "execution_count": 26,
   "metadata": {},
   "outputs": [],
   "source": [
    "# Fit on best parameters\n",
    "lgbr = LGBMRegressor(**best.params, n_estimators=best.num_boost_round, random_state=59)\n",
    "model_lgb = Pipeline([(\"preprocessor\", prep_lgb), (\"model\", lgbr)])\n",
    "_ = model_lgb.fit(X=X_train_u, y=y_train_u, model__sample_weight=w_train_u)"
   ]
  }
 ],
 "metadata": {
  "kernelspec": {
   "display_name": ".venv",
   "language": "python",
   "name": "python3"
  },
  "language_info": {
   "codemirror_mode": {
    "name": "ipython",
    "version": 3
   },
   "file_extension": ".py",
   "mimetype": "text/x-python",
   "name": "python",
   "nbconvert_exporter": "python",
   "pygments_lexer": "ipython3",
   "version": "3.11.8"
  }
 },
 "nbformat": 4,
 "nbformat_minor": 2
}
